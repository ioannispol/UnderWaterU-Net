{
 "cells": [
  {
   "cell_type": "code",
   "execution_count": null,
   "metadata": {},
   "outputs": [],
   "source": [
    "import os\n",
    "\n",
    "import cv2\n",
    "import matplotlib.pyplot as plt\n",
    "import numpy as np\n",
    "import torch\n",
    "import torch.nn as nn\n",
    "import torchvision.datasets as datasets\n",
    "import torchvision.transforms as transforms\n",
    "\n",
    "from underwater_unet.model import UNet\n",
    "\n",
    "% matplotlib inline"
   ]
  },
  {
   "cell_type": "code",
   "execution_count": null,
   "metadata": {},
   "outputs": [],
   "source": [
    "# Insert the UNet and AttentionUNet code here\n",
    "model = UNet(n_channels=1, n_classes=2)  # Example for a grayscale image to be classified into 2 classes"
   ]
  },
  {
   "cell_type": "code",
   "execution_count": null,
   "metadata": {},
   "outputs": [],
   "source": [
    "transform = transforms.Compose([\n",
    "    transforms.Resize((256, 256)),  # Resizing to fit the U-Net architecture\n",
    "    transforms.ToTensor(),\n",
    "])\n",
    "\n",
    "test_dataset = datasets.MNIST(root='./data', train=False, transform=transform, download=True)\n",
    "test_loader = torch.utils.data.DataLoader(test_dataset, batch_size=4, shuffle=True)"
   ]
  },
  {
   "cell_type": "code",
   "execution_count": null,
   "metadata": {},
   "outputs": [],
   "source": [
    "def display_image_from_npy(npy_path, image_index, method=\"opencv\"):\n",
    "    \"\"\"\n",
    "    Load and display an image from a .npy file.\n",
    "\n",
    "    Parameters:\n",
    "    - npy_path (str): Path to the .npy file containing the images.\n",
    "    - image_index (int): 0-based index of the image to display from the .npy file.\n",
    "    - method (str): Method to use for displaying the image. Options are \"opencv\" or \"matplotlib\".\n",
    "    \"\"\"\n",
    "\n",
    "    # Load the dataset from the .npy file\n",
    "    dataset = np.load(npy_path)\n",
    "\n",
    "    # Check if the image_index is valid\n",
    "    if image_index < 0 or image_index >= len(dataset):\n",
    "        print(f\"Invalid image index. Please provide an index between 0 and {len(dataset) - 1}.\")\n",
    "        return\n",
    "\n",
    "    # Get the desired image\n",
    "    image = dataset[image_index]\n",
    "\n",
    "    if method == \"opencv\":\n",
    "        # Display the image using OpenCV\n",
    "        cv2.imshow(f'Image {image_index}', image)\n",
    "        cv2.waitKey(0)\n",
    "        cv2.destroyAllWindows()\n",
    "    elif method == \"matplotlib\":\n",
    "        # Display the image using Matplotlib\n",
    "        plt.imshow(cv2.cvtColor(image, cv2.COLOR_BGR2RGB))\n",
    "        plt.title(f'Image {image_index}')\n",
    "        plt.axis('off')\n",
    "        plt.show()\n",
    "    else:\n",
    "        print(\"Invalid method. Choose 'opencv' or 'matplotlib'.\")"
   ]
  },
  {
   "cell_type": "code",
   "execution_count": null,
   "metadata": {},
   "outputs": [],
   "source": [
    "dataset_path = '/workspaces/UnderWaterU-Net/dataset.npy'\n",
    "display_image_from_npy(dataset_path, 20, method=\"matplotlib\")"
   ]
  },
  {
   "cell_type": "code",
   "execution_count": null,
   "metadata": {},
   "outputs": [],
   "source": []
  }
 ],
 "metadata": {
  "kernelspec": {
   "display_name": "Python 3",
   "language": "python",
   "name": "python3"
  },
  "language_info": {
   "codemirror_mode": {
    "name": "ipython",
    "version": 3
   },
   "file_extension": ".py",
   "mimetype": "text/x-python",
   "name": "python",
   "nbconvert_exporter": "python",
   "pygments_lexer": "ipython3",
   "version": "3.8.18"
  }
 },
 "nbformat": 4,
 "nbformat_minor": 2
}
